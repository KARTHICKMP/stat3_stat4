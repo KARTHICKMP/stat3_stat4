{
 "cells": [
  {
   "cell_type": "markdown",
   "metadata": {},
   "source": [
    "###### Is gender independent of education level? A random sample of 395 people were surveyed and each person was asked to report the highest education level they obtained. The data that resulted from the survey is summarized in the following table:"
   ]
  },
  {
   "cell_type": "markdown",
   "metadata": {},
   "source": [
    "###### Chi-Square Test Statistic\n",
    "χ2=∑(O−E)2/E\n",
    "\n",
    "where O represents the observed frequency. E is the expected frequency under the null hypothesis and computed by:\n",
    " \n",
    "E = row total×column total / sample size"
   ]
  },
  {
   "cell_type": "markdown",
   "metadata": {},
   "source": [
    "###### \tHigh School\t Bachelors\tMasters\tPh.d.\tTotal\n",
    "\n",
    "Female\t60\t54\t46\t41\t201\n",
    "\n",
    "Male\t40\t44\t53\t57\t194\n",
    "\n",
    "Total\t100\t98\t99\t98\t395"
   ]
  },
  {
   "cell_type": "markdown",
   "metadata": {},
   "source": [
    "###### Here's the table of expected counts:\n",
    "\n",
    " \tHigh School\t Bachelors\tMasters\tPh.d.\tTotal\n",
    "    \n",
    "Female\t50.886\t49.868\t50.377\t49.868\t201\n",
    "\n",
    "Male\t49.114\t48.132\t48.623\t48.132\t194\n",
    "\n",
    "Total\t100\t98\t99\t98\t395"
   ]
  },
  {
   "cell_type": "code",
   "execution_count": 3,
   "metadata": {},
   "outputs": [],
   "source": [
    "from scipy.stats import chisquare"
   ]
  },
  {
   "cell_type": "code",
   "execution_count": 4,
   "metadata": {},
   "outputs": [
    {
     "data": {
      "text/plain": [
       "Power_divergenceResult(statistic=8.0059071211091002, pvalue=0.33207330622863096)"
      ]
     },
     "execution_count": 4,
     "metadata": {},
     "output_type": "execute_result"
    }
   ],
   "source": [
    "chisquare([60,54,46,41,40,44,53,57], f_exp=[50.886, 49.868,50.377, 49.868, 49.114, 48.132, 48.623, 48.132])"
   ]
  },
  {
   "cell_type": "markdown",
   "metadata": {},
   "source": [
    "###### The critical value of χ2 with 3 degree of freedom is 7.815. Since 8.006 > 7.815, therefore we reject the null hypothesis and conclude that the education level depends on gender at a 5% level of significance."
   ]
  },
  {
   "cell_type": "code",
   "execution_count": null,
   "metadata": {},
   "outputs": [],
   "source": []
  }
 ],
 "metadata": {
  "kernelspec": {
   "display_name": "Python 3",
   "language": "python",
   "name": "python3"
  },
  "language_info": {
   "codemirror_mode": {
    "name": "ipython",
    "version": 3
   },
   "file_extension": ".py",
   "mimetype": "text/x-python",
   "name": "python",
   "nbconvert_exporter": "python",
   "pygments_lexer": "ipython3",
   "version": "3.6.6"
  }
 },
 "nbformat": 4,
 "nbformat_minor": 2
}
